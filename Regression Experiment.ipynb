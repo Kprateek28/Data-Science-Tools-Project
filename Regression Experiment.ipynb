{
 "cells": [
  {
   "cell_type": "code",
   "execution_count": 130,
   "metadata": {
    "collapsed": true
   },
   "outputs": [],
   "source": [
    "#Linear Regression Experiment\n",
    "#Estimate life expectancy given demographic info\n",
    "##  Source: Lab 4.8 from Edx DAT210X  ##\n",
    "\n",
    "#setup\n",
    "\n",
    "import pandas as pd\n",
    "import numpy as np\n",
    "import matplotlib\n",
    "import matplotlib.pyplot as plt\n",
    "\n",
    "matplotlib.style.use('ggplot') # Look Pretty\n",
    "\n",
    "\n",
    "def drawLine(model, X, X_train, Y_train, X_test, Y_test, title):\n",
    "    fig = plt.figure(figsize = (12,6))\n",
    "    ax = fig.add_subplot(111)\n",
    "    \n",
    "    #plot training points\n",
    "    ax.scatter(X_train, Y_train, c='b', marker='o')\n",
    "    #plot test points\n",
    "    ax.scatter(X_test, Y_test, c='g', marker='o')\n",
    "    #plot model\n",
    "    ax.plot(X, model.predict(X), color='orange', linewidth=1, alpha=0.7)   \n",
    "    \n",
    "    #Print Predictions\n",
    "    print( \"Est 2014 \" + title + \" Life Expectancy: \", model.predict([[2014]])[0])\n",
    "    print (\"Est 2030 \" + title + \" Life Expectancy: \", model.predict([[2030]])[0])\n",
    "    print (\"Est 2045 \" + title + \" Life Expectancy: \", model.predict([[2045]])[0])\n",
    "    \n",
    "    #Print title\n",
    "    score = model.score(X_test, Y_test)\n",
    "    title += \" R2: \" + str(score)\n",
    "    ax.set_title(title)\n",
    "\n",
    "    plt.show()"
   ]
  },
  {
   "cell_type": "code",
   "execution_count": 131,
   "metadata": {
    "collapsed": false
   },
   "outputs": [
    {
     "data": {
      "text/html": [
       "<div>\n",
       "<table border=\"1\" class=\"dataframe\">\n",
       "  <thead>\n",
       "    <tr style=\"text-align: right;\">\n",
       "      <th></th>\n",
       "      <th>Year</th>\n",
       "      <th>WhiteMale</th>\n",
       "      <th>WhiteFemale</th>\n",
       "      <th>BlackMale</th>\n",
       "      <th>BlackFemale</th>\n",
       "    </tr>\n",
       "  </thead>\n",
       "  <tbody>\n",
       "    <tr>\n",
       "      <th>0</th>\n",
       "      <td>1900</td>\n",
       "      <td>46.6</td>\n",
       "      <td>48.7</td>\n",
       "      <td>32.5</td>\n",
       "      <td>33.5</td>\n",
       "    </tr>\n",
       "    <tr>\n",
       "      <th>1</th>\n",
       "      <td>1950</td>\n",
       "      <td>66.5</td>\n",
       "      <td>72.2</td>\n",
       "      <td>59.1</td>\n",
       "      <td>62.9</td>\n",
       "    </tr>\n",
       "    <tr>\n",
       "      <th>2</th>\n",
       "      <td>1960</td>\n",
       "      <td>67.4</td>\n",
       "      <td>74.1</td>\n",
       "      <td>61.1</td>\n",
       "      <td>66.3</td>\n",
       "    </tr>\n",
       "    <tr>\n",
       "      <th>3</th>\n",
       "      <td>1970</td>\n",
       "      <td>68.0</td>\n",
       "      <td>75.6</td>\n",
       "      <td>60.0</td>\n",
       "      <td>68.3</td>\n",
       "    </tr>\n",
       "    <tr>\n",
       "      <th>4</th>\n",
       "      <td>1975</td>\n",
       "      <td>69.5</td>\n",
       "      <td>77.3</td>\n",
       "      <td>62.4</td>\n",
       "      <td>71.3</td>\n",
       "    </tr>\n",
       "  </tbody>\n",
       "</table>\n",
       "</div>"
      ],
      "text/plain": [
       "   Year  WhiteMale  WhiteFemale  BlackMale  BlackFemale\n",
       "0  1900       46.6         48.7       32.5         33.5\n",
       "1  1950       66.5         72.2       59.1         62.9\n",
       "2  1960       67.4         74.1       61.1         66.3\n",
       "3  1970       68.0         75.6       60.0         68.3\n",
       "4  1975       69.5         77.3       62.4         71.3"
      ]
     },
     "execution_count": 131,
     "metadata": {},
     "output_type": "execute_result"
    }
   ],
   "source": [
    "#Load the Data\n",
    "\n",
    "X = pd.read_csv(\"life_expectancy.csv\", delim_whitespace = True)\n",
    "X.head()"
   ]
  },
  {
   "cell_type": "code",
   "execution_count": 132,
   "metadata": {
    "collapsed": true
   },
   "outputs": [],
   "source": [
    "#Filter out 1900 - 1975 \n",
    "X = X[X.Year > 1979]"
   ]
  },
  {
   "cell_type": "code",
   "execution_count": 133,
   "metadata": {
    "collapsed": true
   },
   "outputs": [],
   "source": [
    "# import model\n",
    "from sklearn import linear_model\n",
    "model = linear_model.LinearRegression()"
   ]
  },
  {
   "cell_type": "code",
   "execution_count": 134,
   "metadata": {
    "collapsed": false
   },
   "outputs": [],
   "source": [
    "# Setup X_train and Y_train, X_test and Y_test, using 2005 as boundry\n",
    "\n",
    "Demographic = \"WhiteFemale\"\n",
    "\n",
    "X_train = X[X.Year < 2005]\n",
    "Y_train = X_train[[Demographic]]\n",
    "X_train = X_train[[\"Year\"]]\n",
    "\n",
    "X_test = X[X.Year > 2004]\n",
    "Y_test = X_test[[Demographic]]\n",
    "X_test = X_test[[\"Year\"]]\n",
    "\n",
    "Y = X[[Demographic]]\n",
    "X = X[[\"Year\"]]"
   ]
  },
  {
   "cell_type": "code",
   "execution_count": 135,
   "metadata": {
    "collapsed": false
   },
   "outputs": [
    {
     "name": "stdout",
     "output_type": "stream",
     "text": [
      "Est 2014 Model trained on WhiteFemale<2000 Life Expectancy:  [ 81.24]\n",
      "Est 2030 Model trained on WhiteFemale<2000 Life Expectancy:  [ 82.584]\n",
      "Est 2045 Model trained on WhiteFemale<2000 Life Expectancy:  [ 83.844]\n"
     ]
    },
    {
     "data": {
      "image/png": "[encoded data removed]",
      "text/plain": [
       "<matplotlib.figure.Figure at 0x1c22eb0fa58>"
      ]
     },
     "metadata": {},
     "output_type": "display_data"
    }
   ],
   "source": [
    "#train the model, map it, and make predictions\n",
    "Trained_model = model.fit(X_train, Y_train)\n",
    "drawLine(Trained_model, X, X_train, Y_train, X_test, Y_test, \"Model trained on \" + Demographic + \"<2000\")"
   ]
  },
  {
   "cell_type": "code",
   "execution_count": null,
   "metadata": {
    "collapsed": true
   },
   "outputs": [],
   "source": []
  }
 ],
 "metadata": {
  "kernelspec": {
   "display_name": "Python 3",
   "language": "python",
   "name": "python3"
  },
  "language_info": {
   "codemirror_mode": {
    "name": "ipython",
    "version": 3
   },
   "file_extension": ".py",
   "mimetype": "text/x-python",
   "name": "python",
   "nbconvert_exporter": "python",
   "pygments_lexer": "ipython3",
   "version": "3.6.0"
  }
 },
 "nbformat": 4,
 "nbformat_minor": 2
}
